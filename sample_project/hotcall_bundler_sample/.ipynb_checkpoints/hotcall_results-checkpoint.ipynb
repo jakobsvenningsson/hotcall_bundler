{
 "cells": [
  {
   "cell_type": "code",
   "execution_count": 1,
   "metadata": {},
   "outputs": [],
   "source": [
    "import pandas as pd\n",
    "import matplotlib.pyplot as plt\n",
    "%matplotlib inline\n",
    "plt.rcParams['figure.figsize'] = (12.0, 6.0)"
   ]
  },
  {
   "cell_type": "code",
   "execution_count": 2,
   "metadata": {},
   "outputs": [],
   "source": [
    "n_rounds = 10;\n",
    "\n",
    "# Helper function to read input data\n",
    "def read_input(s):\n",
    "    df = pd.read_csv(s, header=None, names=['execution_time'])\n",
    "    return df\\\n",
    "    .mask(df['execution_time'] > df['execution_time'].quantile(0.975), axis=0)"
   ]
  },
  {
   "cell_type": "code",
   "execution_count": 3,
   "metadata": {},
   "outputs": [],
   "source": [
    "df_hotcall_warm_20171117 = read_input(\"./data/20171117/hotcall/hotcall_warm\")\n",
    "df_hotcall_cold_20171117 = read_input(\"./data/20171117/hotcall/hotcall_cold_2\")\n",
    "df_vanilla_warm_20171117 = read_input(\"./data/20171117/vanilla/vanilla_warm\")\n",
    "df_vanilla_cold_20171117 = read_input(\"./data/20171117/vanilla/vanilla_cold_2\")\n",
    "\n",
    "df_hotcall_warm_20180312 = read_input(\"./data/20180312/hotcall/hotcall_warm\")\n",
    "df_hotcall_cold_20180312 = read_input(\"./data/20180312/hotcall/hotcall_cold_2\")\n",
    "df_vanilla_warm_20180312 = read_input(\"./data/20180312/vanilla/vanilla_warm\")\n",
    "df_vanilla_cold_20180312 = read_input(\"./data/20180312/vanilla/vanilla_cold_2\")\n",
    "\n",
    "df_hotcall_warm_20180807 = read_input(\"./data/20180807/hotcall/hotcall_warm\")\n",
    "df_hotcall_cold_20180807 = read_input(\"./data/20180807/hotcall/hotcall_cold_2\")\n",
    "df_vanilla_warm_20180807 = read_input(\"./data/20180807/vanilla/vanilla_warm\")\n",
    "df_vanilla_cold_20180807 = read_input(\"./data/20180807/vanilla/vanilla_cold_2\")\n",
    "\n",
    "df_hotcall_warm_20190312 = read_input(\"./data/2019/hotcall/hotcall_warm\")\n",
    "df_hotcall_cold_20190312 = read_input(\"./data/2019/hotcall/hotcall_cold_2\")\n",
    "df_vanilla_warm_20190312 = read_input(\"./data/2019/vanilla/vanilla_warm\")\n",
    "df_vanilla_cold_20190312 = read_input(\"./data/2019/vanilla/vanilla_cold_2\")\n",
    "\n",
    "df_medians = pd.DataFrame({\n",
    "    'hotcall_warm': [\n",
    "        df_hotcall_warm_20171117.median()[0], \n",
    "        df_hotcall_warm_20180312.median()[0], \n",
    "        df_hotcall_warm_20180807.median()[0], \n",
    "        df_hotcall_warm_20190312.median()[0]\n",
    "    ],\n",
    "    'hotcall_cold': [\n",
    "        df_hotcall_cold_20171117.median()[0], \n",
    "        df_hotcall_cold_20180312.median()[0], \n",
    "        df_hotcall_cold_20180807.median()[0], \n",
    "        df_hotcall_cold_20190312.median()[0]\n",
    "    ],\n",
    "    'ecall_warm': [\n",
    "        df_vanilla_warm_20171117.median()[0], \n",
    "        df_vanilla_warm_20180312.median()[0],\n",
    "        df_vanilla_warm_20180807.median()[0],\n",
    "        df_vanilla_warm_20190312.median()[0]\n",
    "    ],\n",
    "    'ecall_cold': [\n",
    "        df_vanilla_cold_20171117.median()[0], \n",
    "        df_vanilla_cold_20180312.median()[0],\n",
    "        df_vanilla_cold_20180807.median()[0],\n",
    "        df_vanilla_cold_20190312.median()[0]\n",
    "    ]\n",
    "})\n",
    "idx = pd.Series(['171117', '180312', '180807', '190312'])\n",
    "df_medians = df_medians.set_index(idx)"
   ]
  },
  {
   "cell_type": "code",
   "execution_count": 4,
   "metadata": {},
   "outputs": [
    {
     "data": {
      "text/plain": [
       "Text(0.5,1,'Enclave transition time for hotcalls and ecalls with cold and hot cache.')"
      ]
     },
     "execution_count": 4,
     "metadata": {},
     "output_type": "execute_result"
    },
    {
     "data": {
      "image/png": "[encoded data removed]",
      "text/plain": [
       "<Figure size 432x288 with 1 Axes>"
      ]
     },
     "metadata": {
      "needs_background": "light"
     },
     "output_type": "display_data"
    }
   ],
   "source": [
    "df_medians[['hotcall_warm', 'hotcall_cold', 'ecall_warm', 'ecall_cold']].plot.bar()\n",
    "plt.xlabel(\"Micro-code version\")\n",
    "plt.ylabel(\"Clock cycles\")\n",
    "plt.title(\"Enclave transition time for hotcalls and ecalls with cold and hot cache.\")"
   ]
  },
  {
   "cell_type": "markdown",
   "metadata": {},
   "source": [
    "We can observer that the cost of an ecall has been roughly doubled when using the latest intel micro code in comparision to if we use micro code from before the first speculation based attacks were discovered and patched."
   ]
  },
  {
   "cell_type": "markdown",
   "metadata": {},
   "source": [
    "### Enclave transition time.\n",
    "\n",
    "How much time does it take to make a enclave transition with hcalls vs ecalls (warm/cold cache)? \n",
    "\n",
    "\n",
    "We meassure the transition time for our hotcall implementation by meassuring the time it takes for the application to execute a single blocking hotcall. However, since we only want to meassure the transition time in this experiment, the function call is actually not executed by the enclave but simply ignored and discarded. The reason for not executing the hotcall is that in order for the enclave to execute the hotcall, it needs to access a shared memory structure which adds a signficant amount of execution time since this structure is not in the cache (it has been invalidated when written to by the application thread when preparing the enclave). \n",
    "\n",
    "\n",
    "We meassure the traisntion time for an ecall by calling a ecall which takes no arguments, return no value and has an empty function body. The only way of entering the enclave when not using hotcalls is using ecalls, it's therefore not possible to enter the enclave without actually executing a function. \n",
    "\n",
    "\n",
    "Numbers published in hotcall papers are prio spectre and foreshadow (and possibly others). Intel has afterwards released secruity patches which makes the lowers the performance of enclave transitions."
   ]
  },
  {
   "cell_type": "code",
   "execution_count": 5,
   "metadata": {},
   "outputs": [
    {
     "data": {
      "text/plain": [
       "execution_time    1210.0\n",
       "dtype: float64"
      ]
     },
     "execution_count": 5,
     "metadata": {},
     "output_type": "execute_result"
    }
   ],
   "source": [
    "df_hotcall_cold = df_hotcall_cold_20190312\n",
    "df_hotcall_cold.median()"
   ]
  },
  {
   "cell_type": "code",
   "execution_count": 6,
   "metadata": {
    "scrolled": false
   },
   "outputs": [
    {
     "data": {
      "text/plain": [
       "Text(0.5,1,'Execution time distribution for hotcall function which takes no arguments.')"
      ]
     },
     "execution_count": 6,
     "metadata": {},
     "output_type": "execute_result"
    },
    {
     "data": {
      "image/png": "[encoded data removed]",
      "text/plain": [
       "<Figure size 432x288 with 1 Axes>"
      ]
     },
     "metadata": {
      "needs_background": "light"
     },
     "output_type": "display_data"
    }
   ],
   "source": [
    "df_hotcall_cold.hist(bins=100, grid=True);\n",
    "plt.xlabel('Clock cycles')\n",
    "plt.ylabel('Frequency')\n",
    "plt.title('Execution time distribution for hotcall function which takes no arguments.')"
   ]
  },
  {
   "cell_type": "code",
   "execution_count": 7,
   "metadata": {},
   "outputs": [
    {
     "data": {
      "text/plain": [
       "execution_time    789.0\n",
       "dtype: float64"
      ]
     },
     "execution_count": 7,
     "metadata": {},
     "output_type": "execute_result"
    }
   ],
   "source": [
    "df_hotcall_0_warm = df_hotcall_warm_20190312\n",
    "df_hotcall_0_warm.median()"
   ]
  },
  {
   "cell_type": "code",
   "execution_count": 8,
   "metadata": {
    "scrolled": true
   },
   "outputs": [
    {
     "data": {
      "text/plain": [
       "Text(0.5,1,'Execution time distribution for hotcall function which takes no arguments.')"
      ]
     },
     "execution_count": 8,
     "metadata": {},
     "output_type": "execute_result"
    },
    {
     "data": {
      "image/png": "[encoded data removed]",
      "text/plain": [
       "<Figure size 432x288 with 1 Axes>"
      ]
     },
     "metadata": {
      "needs_background": "light"
     },
     "output_type": "display_data"
    }
   ],
   "source": [
    "df_hotcall_0_warm.hist(bins=100, grid=True);\n",
    "plt.xlabel('Clock cycles')\n",
    "plt.ylabel('Frequency')\n",
    "plt.title('Execution time distribution for hotcall function which takes no arguments.')"
   ]
  },
  {
   "cell_type": "markdown",
   "metadata": {},
   "source": [
    "What kind of distribution? Multi modal?"
   ]
  },
  {
   "cell_type": "code",
   "execution_count": 9,
   "metadata": {},
   "outputs": [],
   "source": [
    "df_vanilla_0_cold = df_vanilla_cold_20190312"
   ]
  },
  {
   "cell_type": "code",
   "execution_count": 10,
   "metadata": {
    "scrolled": true
   },
   "outputs": [
    {
     "data": {
      "text/plain": [
       "Text(0.5,1,'Execution time distribution for vanilla SGX function which takes no arguments.')"
      ]
     },
     "execution_count": 10,
     "metadata": {},
     "output_type": "execute_result"
    },
    {
     "data": {
      "image/png": "[encoded data removed]",
      "text/plain": [
       "<Figure size 432x288 with 1 Axes>"
      ]
     },
     "metadata": {
      "needs_background": "light"
     },
     "output_type": "display_data"
    }
   ],
   "source": [
    "df_vanilla_0_cold.hist(bins=100);\n",
    "plt.xlabel('Clock cycles')\n",
    "plt.ylabel('Frequency')\n",
    "plt.title('Execution time distribution for vanilla SGX function which takes no arguments.')"
   ]
  },
  {
   "cell_type": "code",
   "execution_count": 11,
   "metadata": {},
   "outputs": [],
   "source": [
    "df_vanilla_0_warm = df_vanilla_warm_20190312"
   ]
  },
  {
   "cell_type": "code",
   "execution_count": 12,
   "metadata": {},
   "outputs": [
    {
     "data": {
      "text/plain": [
       "Text(0.5,1,'Execution time distribution for vanilla SGX function which takes no arguments.')"
      ]
     },
     "execution_count": 12,
     "metadata": {},
     "output_type": "execute_result"
    },
    {
     "data": {
      "image/png": "[encoded data removed]",
      "text/plain": [
       "<Figure size 432x288 with 1 Axes>"
      ]
     },
     "metadata": {
      "needs_background": "light"
     },
     "output_type": "display_data"
    }
   ],
   "source": [
    "df_vanilla_0_warm.hist(bins=100);\n",
    "plt.xlabel('Clock cycles')\n",
    "plt.ylabel('Frequency')\n",
    "plt.title('Execution time distribution for vanilla SGX function which takes no arguments.')"
   ]
  },
  {
   "cell_type": "code",
   "execution_count": 13,
   "metadata": {
    "scrolled": true
   },
   "outputs": [
    {
     "data": {
      "text/plain": [
       "array([[<matplotlib.axes._subplots.AxesSubplot object at 0x7f90d480c310>]],\n",
       "      dtype=object)"
      ]
     },
     "execution_count": 13,
     "metadata": {},
     "output_type": "execute_result"
    },
    {
     "data": {
      "image/png": "[encoded data removed]",
      "text/plain": [
       "<Figure size 432x288 with 1 Axes>"
      ]
     },
     "metadata": {
      "needs_background": "light"
     },
     "output_type": "display_data"
    }
   ],
   "source": [
    "df_vanilla_0_warm.hist(bins=100, log=True)"
   ]
  },
  {
   "cell_type": "markdown",
   "metadata": {},
   "source": [
    "It appears that warm ecalls follow a power law distributuin."
   ]
  },
  {
   "cell_type": "markdown",
   "metadata": {},
   "source": []
  },
  {
   "cell_type": "code",
   "execution_count": 25,
   "metadata": {},
   "outputs": [],
   "source": [
    "df_hotcall_0_warm = read_input(\"./data/hotcall_parameter/hotcall_0/hotcall_0_warm\")\n",
    "df_hotcall_1_warm = read_input(\"./data/hotcall_parameter/hotcall_1/hotcall_1_warm\")\n",
    "df_hotcall_3_warm = read_input(\"./data/hotcall_parameter/hotcall_3/hotcall_3_warm\")\n",
    "df_hotcall_5_warm = read_input(\"./data/hotcall_parameter/hotcall_5/hotcall_5_warm\")\n",
    "df_hotcall_10_warm = read_input(\"./data/hotcall_parameter/hotcall_10/hotcall_10_warm\")\n",
    "df_hotcall_15_warm = read_input(\"./data/hotcall_parameter/hotcall_15/hotcall_15_warm\")\n",
    "\n",
    "df_hotcall_0_cold = read_input(\"./data/hotcall_parameter/hotcall_0/hotcall_0_cold_2\")\n",
    "df_hotcall_1_cold = read_input(\"./data/hotcall_parameter/hotcall_1/hotcall_1_cold_2\")\n",
    "df_hotcall_3_cold = read_input(\"./data/hotcall_parameter/hotcall_3/hotcall_3_cold_2\")\n",
    "df_hotcall_5_cold = read_input(\"./data/hotcall_parameter/hotcall_5/hotcall_5_cold_2\")\n",
    "df_hotcall_10_cold = read_input(\"./data/hotcall_parameter/hotcall_10/hotcall_10_cold_2\")\n",
    "df_hotcall_15_cold = read_input(\"./data/hotcall_parameter/hotcall_15/hotcall_15_cold_2\")"
   ]
  },
  {
   "cell_type": "code",
   "execution_count": 26,
   "metadata": {},
   "outputs": [],
   "source": [
    "df_vanilla_0_warm = read_input(\"./data/hotcall_parameter/vanilla_0/vanilla_0_warm\")\n",
    "df_vanilla_1_warm = read_input(\"./data/hotcall_parameter/vanilla_1/vanilla_1_warm\")\n",
    "df_vanilla_3_warm = read_input(\"./data/hotcall_parameter/vanilla_3/vanilla_3_warm\")\n",
    "df_vanilla_5_warm = read_input(\"./data/hotcall_parameter/vanilla_5/vanilla_5_warm\")\n",
    "df_vanilla_10_warm = read_input(\"./data/hotcall_parameter/vanilla_10/vanilla_10_warm\")\n",
    "df_vanilla_15_warm = read_input(\"./data/hotcall_parameter/vanilla_15/vanilla_15_warm\")\n",
    "\n",
    "df_vanilla_0_cold = read_input(\"./data/hotcall_parameter/vanilla_0/vanilla_0_cold_2\")\n",
    "df_vanilla_1_cold = read_input(\"./data/hotcall_parameter/vanilla_1/vanilla_1_cold_2\")\n",
    "df_vanilla_3_cold = read_input(\"./data/hotcall_parameter/vanilla_3/vanilla_3_cold_2\")\n",
    "df_vanilla_5_cold = read_input(\"./data/hotcall_parameter/vanilla_5/vanilla_5_cold_2\")\n",
    "df_vanilla_10_cold = read_input(\"./data/hotcall_parameter/vanilla_10/vanilla_10_cold_2\")\n",
    "df_vanilla_15_cold = read_input(\"./data/hotcall_parameter/vanilla_15/vanilla_15_cold_2\")"
   ]
  },
  {
   "cell_type": "code",
   "execution_count": null,
   "metadata": {},
   "outputs": [],
   "source": []
  },
  {
   "cell_type": "code",
   "execution_count": 27,
   "metadata": {},
   "outputs": [
    {
     "data": {
      "text/html": [
       "<div>\n",
       "<style scoped>\n",
       "    .dataframe tbody tr th:only-of-type {\n",
       "        vertical-align: middle;\n",
       "    }\n",
       "\n",
       "    .dataframe tbody tr th {\n",
       "        vertical-align: top;\n",
       "    }\n",
       "\n",
       "    .dataframe thead th {\n",
       "        text-align: right;\n",
       "    }\n",
       "</style>\n",
       "<table border=\"1\" class=\"dataframe\">\n",
       "  <thead>\n",
       "    <tr style=\"text-align: right;\">\n",
       "      <th></th>\n",
       "      <th>ecall_cold</th>\n",
       "      <th>ecall_warm</th>\n",
       "      <th>hotcall_cold</th>\n",
       "      <th>hotcall_warm</th>\n",
       "    </tr>\n",
       "  </thead>\n",
       "  <tbody>\n",
       "    <tr>\n",
       "      <th>0</th>\n",
       "      <td>23259.0</td>\n",
       "      <td>16019.0</td>\n",
       "      <td>2163.0</td>\n",
       "      <td>1005.0</td>\n",
       "    </tr>\n",
       "    <tr>\n",
       "      <th>1</th>\n",
       "      <td>23106.0</td>\n",
       "      <td>16092.0</td>\n",
       "      <td>2330.0</td>\n",
       "      <td>1045.0</td>\n",
       "    </tr>\n",
       "    <tr>\n",
       "      <th>3</th>\n",
       "      <td>23489.0</td>\n",
       "      <td>16128.0</td>\n",
       "      <td>2332.0</td>\n",
       "      <td>1089.0</td>\n",
       "    </tr>\n",
       "    <tr>\n",
       "      <th>5</th>\n",
       "      <td>23384.0</td>\n",
       "      <td>16148.0</td>\n",
       "      <td>2576.0</td>\n",
       "      <td>1160.0</td>\n",
       "    </tr>\n",
       "    <tr>\n",
       "      <th>10</th>\n",
       "      <td>23443.0</td>\n",
       "      <td>16138.0</td>\n",
       "      <td>2871.0</td>\n",
       "      <td>1341.0</td>\n",
       "    </tr>\n",
       "  </tbody>\n",
       "</table>\n",
       "</div>"
      ],
      "text/plain": [
       "    ecall_cold  ecall_warm  hotcall_cold  hotcall_warm\n",
       "0      23259.0     16019.0        2163.0        1005.0\n",
       "1      23106.0     16092.0        2330.0        1045.0\n",
       "3      23489.0     16128.0        2332.0        1089.0\n",
       "5      23384.0     16148.0        2576.0        1160.0\n",
       "10     23443.0     16138.0        2871.0        1341.0"
      ]
     },
     "execution_count": 27,
     "metadata": {},
     "output_type": "execute_result"
    }
   ],
   "source": [
    "df_medians = pd.DataFrame({\n",
    "    'hotcall_warm': [df_hotcall_0_warm.median()[0], \n",
    "                df_hotcall_1_warm.median()[0], \n",
    "                df_hotcall_3_warm.median()[0], \n",
    "                df_hotcall_5_warm.median()[0], \n",
    "                df_hotcall_10_warm.median()[0],\n",
    "                df_hotcall_15_warm.median()[0],\n",
    "               ],\n",
    "    'hotcall_cold': [df_hotcall_0_cold.median()[0], \n",
    "                    df_hotcall_1_cold.median()[0], \n",
    "                    df_hotcall_3_cold.median()[0], \n",
    "                    df_hotcall_5_cold.median()[0], \n",
    "                    df_hotcall_10_cold.median()[0],\n",
    "                    df_hotcall_15_cold.median()[0],\n",
    "                   ],\n",
    "    'ecall_warm': [df_vanilla_0_warm.median()[0], \n",
    "                df_vanilla_1_warm.median()[0],\n",
    "                df_vanilla_3_warm.median()[0],\n",
    "                df_vanilla_5_warm.median()[0],\n",
    "                df_vanilla_10_warm.median()[0],\n",
    "                df_vanilla_15_warm.median()[0]\n",
    "               ],\n",
    "     'ecall_cold': [df_vanilla_0_cold.median()[0], \n",
    "                df_vanilla_1_cold.median()[0],\n",
    "                df_vanilla_3_cold.median()[0],\n",
    "                df_vanilla_5_cold.median()[0],\n",
    "                df_vanilla_10_cold.median()[0],\n",
    "                df_vanilla_15_cold.median()[0]\n",
    "               ]\n",
    "})\n",
    "idx = pd.Series([0, 1, 3, 5, 10, 15])\n",
    "df_medians = df_medians.set_index(idx)\n",
    "df_medians.head()"
   ]
  },
  {
   "cell_type": "code",
   "execution_count": 29,
   "metadata": {},
   "outputs": [
    {
     "data": {
      "text/plain": [
       "Text(0.5,1,'Execution times for hotcalls and ecalls with different number of function parameters.')"
      ]
     },
     "execution_count": 29,
     "metadata": {},
     "output_type": "execute_result"
    },
    {
     "data": {
      "image/png": "[encoded data removed]",
      "text/plain": [
       "<Figure size 432x288 with 1 Axes>"
      ]
     },
     "metadata": {
      "needs_background": "light"
     },
     "output_type": "display_data"
    }
   ],
   "source": [
    "df_medians[['hotcall_warm', 'hotcall_cold', 'ecall_warm', 'ecall_cold']].plot.bar()\n",
    "plt.xlabel(\"Number of function parameters\")\n",
    "plt.ylabel(\"Clock cycles\")\n",
    "plt.title(\"Execution times for hotcalls and ecalls with different number of function parameters.\")"
   ]
  },
  {
   "cell_type": "markdown",
   "metadata": {},
   "source": [
    "We can observe that the number of parameters does not make much difference in regards to the exection time of ecalls. It's more or less the same for 0 and 15 arguments (there is a very small difference but not significant). However, we can observe that adding parameters to hotcalls have a more significant impact.\n",
    "\n",
    "Sending a parameter to a hotcall function involves the following steps:\n",
    "1. Save the parameter in untrusted memory\n",
    "2. Give the address of the parameter to the hotcall middle layer\n",
    "3. "
   ]
  },
  {
   "cell_type": "code",
   "execution_count": null,
   "metadata": {},
   "outputs": [],
   "source": []
  }
 ],
 "metadata": {
  "kernelspec": {
   "display_name": "Python 2",
   "language": "python",
   "name": "python2"
  },
  "language_info": {
   "codemirror_mode": {
    "name": "ipython",
    "version": 2
   },
   "file_extension": ".py",
   "mimetype": "text/x-python",
   "name": "python",
   "nbconvert_exporter": "python",
   "pygments_lexer": "ipython2",
   "version": "2.7.12"
  }
 },
 "nbformat": 4,
 "nbformat_minor": 2
}
