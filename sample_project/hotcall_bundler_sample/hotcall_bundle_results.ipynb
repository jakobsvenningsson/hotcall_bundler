{
 "cells": [
  {
   "cell_type": "code",
   "execution_count": 1,
   "metadata": {},
   "outputs": [],
   "source": [
    "import pandas as pd\n",
    "import matplotlib.pyplot as plt\n",
    "%matplotlib inline\n",
    "plt.rcParams['figure.figsize'] = (12.0, 6.0)"
   ]
  },
  {
   "cell_type": "code",
   "execution_count": 2,
   "metadata": {},
   "outputs": [],
   "source": [
    "n_rounds = 10;\n",
    "\n",
    "# Helper function to read input data\n",
    "def read_input(s):\n",
    "    df = pd.read_csv(s, header=None, names=['execution_time'])\n",
    "    return df\\\n",
    "    .mask(df['execution_time'] > df['execution_time'].quantile(0.975), axis=0)"
   ]
  },
  {
   "cell_type": "markdown",
   "metadata": {},
   "source": [
    "### Comparing execution time of batching vs vanilla hotcalls."
   ]
  },
  {
   "cell_type": "code",
   "execution_count": 5,
   "metadata": {},
   "outputs": [],
   "source": [
    "df_hotcall_warm_1 = read_input(\"./data/hotcall_bundle_v2/1/hotcall_sz_1_warm\")\n",
    "#df_hotcall_warm_2 = read_input(\"./data/hotcall_bundle/2/hotcall_sz_2_warm\")\n",
    "df_hotcall_warm_5 = read_input(\"./data/hotcall_bundle_v2/5/hotcall_sz_5_warm\")\n",
    "df_hotcall_warm_10 = read_input(\"./data/hotcall_bundle_v2/10/hotcall_sz_10_warm\")\n",
    "df_hotcall_warm_25 = read_input(\"./data/hotcall_bundle_v2/25/hotcall_sz_25_warm\")\n",
    "df_hotcall_warm_50 = read_input(\"./data/hotcall_bundle_v2/50/hotcall_sz_50_warm\")\n",
    "df_hotcall_warm_100 = read_input(\"./data/hotcall_bundle_v2/100/hotcall_sz_100_warm\")\n",
    "\n",
    "\n",
    "df_hotcall_cold_1 = read_input(\"./data/hotcall_bundle_v2/1/hotcall_sz_1_cold_2\")\n",
    "#df_hotcall_cold_2 = read_input(\"./data/hotcall_bundle/2/hotcall_sz_2_cold_2\")\n",
    "df_hotcall_cold_5 = read_input(\"./data/hotcall_bundle_v2/5/hotcall_sz_5_cold_2\")\n",
    "df_hotcall_cold_10 = read_input(\"./data/hotcall_bundle_v2/10/hotcall_sz_10_cold_2\")\n",
    "df_hotcall_cold_25 = read_input(\"./data/hotcall_bundle_v2/25/hotcall_sz_25_cold_2\")\n",
    "df_hotcall_cold_50 = read_input(\"./data/hotcall_bundle_v2/50/hotcall_sz_50_cold_2\")\n",
    "df_hotcall_cold_100 = read_input(\"./data/hotcall_bundle_v2/100/hotcall_sz_100_cold_2\")\n",
    "\n",
    "df_hotcall_bundle_warm_1 = read_input(\"./data/hotcall_bundle_v2/1/hotcall_bundle_sz_1_warm\")\n",
    "#df_hotcall_bundle_warm_2 = read_input(\"./data/hotcall_bundle/2/hotcall_bundle_sz_2_warm\")\n",
    "df_hotcall_bundle_warm_5 = read_input(\"./data/hotcall_bundle_v2/5/hotcall_bundle_sz_5_warm\")\n",
    "df_hotcall_bundle_warm_10 = read_input(\"./data/hotcall_bundle_v2/10/hotcall_bundle_sz_10_warm\")\n",
    "df_hotcall_bundle_warm_25 = read_input(\"./data/hotcall_bundle_v2/25/hotcall_bundle_sz_25_warm\")\n",
    "df_hotcall_bundle_warm_50 = read_input(\"./data/hotcall_bundle_v2/50/hotcall_bundle_sz_50_warm\")\n",
    "df_hotcall_bundle_warm_100 = read_input(\"./data/hotcall_bundle_v2/100/hotcall_bundle_sz_100_warm\")\n",
    "\n",
    "\n",
    "df_hotcall_bundle_cold_1 = read_input(\"./data/hotcall_bundle_v2/1/hotcall_bundle_sz_1_cold_2\")\n",
    "#df_hotcall_bundle_cold_2 = read_input(\"./data/hotcall_bundle/2/hotcall_bundle_sz_2_cold_2\")\n",
    "df_hotcall_bundle_cold_5 = read_input(\"./data/hotcall_bundle_v2/5/hotcall_bundle_sz_5_cold_2\")\n",
    "df_hotcall_bundle_cold_10 = read_input(\"./data/hotcall_bundle_v2/10/hotcall_bundle_sz_10_cold_2\")\n",
    "df_hotcall_bundle_cold_25 = read_input(\"./data/hotcall_bundle_v2/25/hotcall_bundle_sz_25_cold_2\")\n",
    "df_hotcall_bundle_cold_50 = read_input(\"./data/hotcall_bundle_v2/50/hotcall_bundle_sz_50_cold_2\")\n",
    "df_hotcall_bundle_cold_100 = read_input(\"./data/hotcall_bundle_v2/100/hotcall_bundle_sz_100_cold_2\")\n",
    "\n",
    "\n",
    "\n",
    "df_medians = pd.DataFrame({\n",
    "    'hotcall_warm': [\n",
    "        df_hotcall_warm_1.median()[0], \n",
    "        df_hotcall_warm_5.median()[0], \n",
    "        df_hotcall_warm_10.median()[0], \n",
    "        df_hotcall_warm_25.median()[0],\n",
    "        df_hotcall_warm_50.median()[0],\n",
    "        df_hotcall_warm_100.median()[0]\n",
    "    ],\n",
    "    'hotcall_cold': [\n",
    "        df_hotcall_cold_1.median()[0], \n",
    "        df_hotcall_cold_5.median()[0], \n",
    "        df_hotcall_cold_10.median()[0], \n",
    "        df_hotcall_cold_25.median()[0],\n",
    "        df_hotcall_cold_50.median()[0],\n",
    "        df_hotcall_cold_100.median()[0]\n",
    "    ],\n",
    "    'hotcall_bundle_warm': [\n",
    "        df_hotcall_bundle_warm_1.median()[0], \n",
    "        df_hotcall_bundle_warm_5.median()[0], \n",
    "        df_hotcall_bundle_warm_10.median()[0], \n",
    "        df_hotcall_bundle_warm_25.median()[0],\n",
    "        df_hotcall_bundle_warm_50.median()[0],\n",
    "        df_hotcall_bundle_warm_100.median()[0]\n",
    "    ],\n",
    "    'hotcall_bundle_cold': [\n",
    "        df_hotcall_bundle_cold_1.median()[0], \n",
    "        df_hotcall_bundle_cold_5.median()[0], \n",
    "        df_hotcall_bundle_cold_10.median()[0], \n",
    "        df_hotcall_bundle_cold_25.median()[0],\n",
    "        df_hotcall_bundle_cold_50.median()[0],\n",
    "        df_hotcall_bundle_cold_100.median()[0]\n",
    "    ]\n",
    "})\n",
    "idx = pd.Series(['1', '5', '10', '25', '50', '100'])\n",
    "df_medians = df_medians.set_index(idx)"
   ]
  },
  {
   "cell_type": "code",
   "execution_count": 6,
   "metadata": {
    "scrolled": true
   },
   "outputs": [
    {
     "data": {
      "text/plain": [
       "Text(0.5,1,'Time to execute hotcalls bundles of different sizes.')"
      ]
     },
     "execution_count": 6,
     "metadata": {},
     "output_type": "execute_result"
    },
    {
     "data": {
      "image/png": "[encoded data removed]",
      "text/plain": [
       "<Figure size 432x288 with 1 Axes>"
      ]
     },
     "metadata": {
      "needs_background": "light"
     },
     "output_type": "display_data"
    }
   ],
   "source": [
    "df_medians[['hotcall_bundle_warm', 'hotcall_bundle_cold', 'hotcall_warm', 'hotcall_cold']].plot.bar()\n",
    "plt.xlabel(\"Number of hotcalls.\")\n",
    "plt.ylabel(\"Clock cycles\")\n",
    "plt.title(\"Time to execute hotcalls bundles of different sizes.\")"
   ]
  },
  {
   "cell_type": "markdown",
   "metadata": {},
   "source": [
    "## Evaluation of enclave function memoization"
   ]
  },
  {
   "cell_type": "code",
   "execution_count": 7,
   "metadata": {},
   "outputs": [],
   "source": [
    "df_memo_fifo_warm = read_input(\"./data/memoize/memoize_fifo/memoize_fifo_warm\")\n",
    "df_memo_fifo_cold = read_input(\"./data/memoize/memoize_fifo/memoize_fifo_cold_2\")\n",
    "\n",
    "df_memo_lru_warm = read_input(\"./data/memoize/memoize_lru/memoize_lru_warm\")\n",
    "df_memo_lru_cold = read_input(\"./data/memoize/memoize_lru/memoize_lru_cold_2\")\n",
    "\n",
    "df_memo_mod_warm = read_input(\"./data/memoize/memoize_mod/memoize_mod_warm\")\n",
    "df_memo_mod_cold = read_input(\"./data/memoize/memoize_mod/memoize_mod_cold_2\")\n",
    "\n",
    "df_memo_off_warm = read_input(\"./data/memoize/memoize_off/memoize_off_warm\")\n",
    "df_memo_off_cold = read_input(\"./data/memoize/memoize_off/memoize_off_cold_2\")\n",
    "\n",
    "df_medians = pd.DataFrame({\n",
    "    'memoize_fifo': [\n",
    "        df_memo_fifo_warm.median()[0], \n",
    "        df_memo_fifo_cold.median()[0]\n",
    "    ],\n",
    "    'memoize_lru': [\n",
    "        df_memo_lru_warm.median()[0], \n",
    "        df_memo_lru_cold.median()[0]\n",
    "    ],\n",
    "    'memoize_mod': [\n",
    "        df_memo_mod_warm.median()[0], \n",
    "        df_memo_mod_cold.median()[0]\n",
    "    ],\n",
    "    'memoize_off': [\n",
    "        df_memo_off_warm.median()[0], \n",
    "        df_memo_off_cold.median()[0]\n",
    "    ]\n",
    "})\n",
    "idx = pd.Series(['hot', 'cold'])\n",
    "df_medians = df_medians.set_index(idx)"
   ]
  },
  {
   "cell_type": "code",
   "execution_count": 8,
   "metadata": {
    "scrolled": true
   },
   "outputs": [
    {
     "data": {
      "text/plain": [
       "Text(0.5,1,'Median clock cycles to access a value with memoization.')"
      ]
     },
     "execution_count": 8,
     "metadata": {},
     "output_type": "execute_result"
    },
    {
     "data": {
      "image/png": "[encoded data removed]",
      "text/plain": [
       "<Figure size 432x288 with 1 Axes>"
      ]
     },
     "metadata": {
      "needs_background": "light"
     },
     "output_type": "display_data"
    }
   ],
   "source": [
    "df_medians[['memoize_fifo', 'memoize_lru', 'memoize_mod', 'memoize_off']].plot.bar()\n",
    "plt.xlabel(\"Number of hotcalls.\")\n",
    "plt.ylabel(\"Clock cycles\")\n",
    "plt.title(\"Median clock cycles to access a value with memoization.\")"
   ]
  },
  {
   "cell_type": "markdown",
   "metadata": {},
   "source": [
    "### Evaluating the performance of loops and iterators"
   ]
  },
  {
   "cell_type": "code",
   "execution_count": 13,
   "metadata": {},
   "outputs": [],
   "source": [
    "df_loop_for_each_sz_1_warm = read_input(\"./data/loop_size/hotcall_for_each_sz_1/hotcall_bundle_for_each_sz_1_warm\")\n",
    "df_loop_for_each_sz_1_cold = read_input(\"./data/loop_size/hotcall_for_each_sz_1/hotcall_bundle_for_each_sz_1_cold_2\")\n",
    "\n",
    "df_loop_for_each_sz_2_warm = read_input(\"./data/loop_size/hotcall_for_each_sz_2/hotcall_bundle_for_each_sz_2_warm\")\n",
    "df_loop_for_each_sz_2_cold = read_input(\"./data/loop_size/hotcall_for_each_sz_2/hotcall_bundle_for_each_sz_2_cold_2\")\n",
    "\n",
    "df_loop_for_each_sz_5_warm = read_input(\"./data/loop_size/hotcall_for_each_sz_5/hotcall_bundle_for_each_sz_5_warm\")\n",
    "df_loop_for_each_sz_5_cold = read_input(\"./data/loop_size/hotcall_for_each_sz_5/hotcall_bundle_for_each_sz_5_cold_2\")\n",
    "\n",
    "df_loop_for_each_sz_10_warm = read_input(\"./data/loop_size/hotcall_for_each_sz_10/hotcall_bundle_for_each_sz_10_warm\")\n",
    "df_loop_for_each_sz_10_cold = read_input(\"./data/loop_size/hotcall_for_each_sz_10/hotcall_bundle_for_each_sz_10_cold_2\")\n",
    "\n",
    "df_loop_for_each_sz_25_warm = read_input(\"./data/loop_size/hotcall_for_each_sz_25/hotcall_bundle_for_each_sz_25_warm\")\n",
    "df_loop_for_each_sz_25_cold = read_input(\"./data/loop_size/hotcall_for_each_sz_25/hotcall_bundle_for_each_sz_25_cold_2\")\n",
    "\n",
    "df_loop_for_each_sz_50_warm = read_input(\"./data/loop_size/hotcall_for_each_sz_50/hotcall_bundle_for_each_sz_50_warm\")\n",
    "df_loop_for_each_sz_50_cold = read_input(\"./data/loop_size/hotcall_for_each_sz_50/hotcall_bundle_for_each_sz_50_cold_2\")\n",
    "\n",
    "df_loop_for_each_sz_100_warm = read_input(\"./data/loop_size/hotcall_for_each_sz_100/hotcall_bundle_for_each_sz_100_warm\")\n",
    "df_loop_for_each_sz_100_cold = read_input(\"./data/loop_size/hotcall_for_each_sz_100/hotcall_bundle_for_each_sz_100_cold_2\")"
   ]
  },
  {
   "cell_type": "code",
   "execution_count": 14,
   "metadata": {},
   "outputs": [],
   "source": [
    "df_loop_for_sz_1_warm = read_input(\"./data/loop_size/hotcall_for_sz_1/hotcall_bundle_for_sz_1_warm\")\n",
    "df_loop_for_sz_1_cold = read_input(\"./data/loop_size/hotcall_for_sz_1/hotcall_bundle_for_sz_1_cold_2\")\n",
    "\n",
    "df_loop_for_sz_2_warm = read_input(\"./data/loop_size/hotcall_for_sz_2/hotcall_bundle_for_sz_2_warm\")\n",
    "df_loop_for_sz_2_cold = read_input(\"./data/loop_size/hotcall_for_sz_2/hotcall_bundle_for_sz_2_cold_2\")\n",
    "\n",
    "df_loop_for_sz_5_warm = read_input(\"./data/loop_size/hotcall_for_sz_5/hotcall_bundle_for_sz_5_warm\")\n",
    "df_loop_for_sz_5_cold = read_input(\"./data/loop_size/hotcall_for_sz_5/hotcall_bundle_for_sz_5_cold_2\")\n",
    "\n",
    "df_loop_for_sz_10_warm = read_input(\"./data/loop_size/hotcall_for_sz_10/hotcall_bundle_for_sz_10_warm\")\n",
    "df_loop_for_sz_10_cold = read_input(\"./data/loop_size/hotcall_for_sz_10/hotcall_bundle_for_sz_10_cold_2\")\n",
    "\n",
    "df_loop_for_sz_25_warm = read_input(\"./data/loop_size/hotcall_for_sz_25/hotcall_bundle_for_sz_25_warm\")\n",
    "df_loop_for_sz_25_cold = read_input(\"./data/loop_size/hotcall_for_sz_25/hotcall_bundle_for_sz_25_cold_2\")\n",
    "\n",
    "df_loop_for_sz_50_warm = read_input(\"./data/loop_size/hotcall_for_sz_50/hotcall_bundle_for_sz_50_warm\")\n",
    "df_loop_for_sz_50_cold = read_input(\"./data/loop_size/hotcall_for_sz_50/hotcall_bundle_for_sz_50_cold_2\")\n",
    "\n",
    "df_loop_for_sz_100_warm = read_input(\"./data/loop_size/hotcall_for_sz_100/hotcall_bundle_for_sz_100_warm\")\n",
    "df_loop_for_sz_100_cold = read_input(\"./data/loop_size/hotcall_for_sz_100/hotcall_bundle_for_sz_100_cold_2\")"
   ]
  },
  {
   "cell_type": "code",
   "execution_count": 15,
   "metadata": {},
   "outputs": [
    {
     "data": {
      "text/html": [
       "<div>\n",
       "<style scoped>\n",
       "    .dataframe tbody tr th:only-of-type {\n",
       "        vertical-align: middle;\n",
       "    }\n",
       "\n",
       "    .dataframe tbody tr th {\n",
       "        vertical-align: top;\n",
       "    }\n",
       "\n",
       "    .dataframe thead th {\n",
       "        text-align: right;\n",
       "    }\n",
       "</style>\n",
       "<table border=\"1\" class=\"dataframe\">\n",
       "  <thead>\n",
       "    <tr style=\"text-align: right;\">\n",
       "      <th></th>\n",
       "      <th>iter_cold</th>\n",
       "      <th>iter_hot</th>\n",
       "      <th>loop_cold</th>\n",
       "      <th>loop_hot</th>\n",
       "    </tr>\n",
       "  </thead>\n",
       "  <tbody>\n",
       "    <tr>\n",
       "      <th>1</th>\n",
       "      <td>2691.0</td>\n",
       "      <td>1170.0</td>\n",
       "      <td>4153.0</td>\n",
       "      <td>1622.0</td>\n",
       "    </tr>\n",
       "    <tr>\n",
       "      <th>2</th>\n",
       "      <td>2845.0</td>\n",
       "      <td>1365.0</td>\n",
       "      <td>4190.0</td>\n",
       "      <td>1654.0</td>\n",
       "    </tr>\n",
       "    <tr>\n",
       "      <th>5</th>\n",
       "      <td>2826.0</td>\n",
       "      <td>1279.0</td>\n",
       "      <td>4700.0</td>\n",
       "      <td>2159.0</td>\n",
       "    </tr>\n",
       "    <tr>\n",
       "      <th>10</th>\n",
       "      <td>2820.0</td>\n",
       "      <td>1339.0</td>\n",
       "      <td>5538.0</td>\n",
       "      <td>3114.0</td>\n",
       "    </tr>\n",
       "    <tr>\n",
       "      <th>25</th>\n",
       "      <td>3054.0</td>\n",
       "      <td>1442.0</td>\n",
       "      <td>8033.0</td>\n",
       "      <td>5539.0</td>\n",
       "    </tr>\n",
       "    <tr>\n",
       "      <th>50</th>\n",
       "      <td>3417.0</td>\n",
       "      <td>1786.0</td>\n",
       "      <td>12279.0</td>\n",
       "      <td>9636.0</td>\n",
       "    </tr>\n",
       "    <tr>\n",
       "      <th>100</th>\n",
       "      <td>3943.0</td>\n",
       "      <td>2433.0</td>\n",
       "      <td>20854.0</td>\n",
       "      <td>17865.0</td>\n",
       "    </tr>\n",
       "  </tbody>\n",
       "</table>\n",
       "</div>"
      ],
      "text/plain": [
       "     iter_cold  iter_hot  loop_cold  loop_hot\n",
       "1       2691.0    1170.0     4153.0    1622.0\n",
       "2       2845.0    1365.0     4190.0    1654.0\n",
       "5       2826.0    1279.0     4700.0    2159.0\n",
       "10      2820.0    1339.0     5538.0    3114.0\n",
       "25      3054.0    1442.0     8033.0    5539.0\n",
       "50      3417.0    1786.0    12279.0    9636.0\n",
       "100     3943.0    2433.0    20854.0   17865.0"
      ]
     },
     "execution_count": 15,
     "metadata": {},
     "output_type": "execute_result"
    }
   ],
   "source": [
    "df_medians = pd.DataFrame({\n",
    "    'loop_hot': [\n",
    "        df_loop_for_sz_1_warm.median()[0], \n",
    "        df_loop_for_sz_2_warm.median()[0],\n",
    "        df_loop_for_sz_5_warm.median()[0],\n",
    "        df_loop_for_sz_10_warm.median()[0],\n",
    "        df_loop_for_sz_25_warm.median()[0],\n",
    "        df_loop_for_sz_50_warm.median()[0],\n",
    "        df_loop_for_sz_100_warm.median()[0]\n",
    "    ],\n",
    "    'loop_cold': [\n",
    "        df_loop_for_sz_1_cold.median()[0], \n",
    "        df_loop_for_sz_2_cold.median()[0], \n",
    "        df_loop_for_sz_5_cold.median()[0], \n",
    "        df_loop_for_sz_10_cold.median()[0], \n",
    "        df_loop_for_sz_25_cold.median()[0], \n",
    "        df_loop_for_sz_50_cold.median()[0], \n",
    "        df_loop_for_sz_100_cold.median()[0], \n",
    "    ],\n",
    "    'iter_hot': [\n",
    "        df_loop_for_each_sz_1_warm.median()[0], \n",
    "        df_loop_for_each_sz_2_warm.median()[0],\n",
    "        df_loop_for_each_sz_5_warm.median()[0],\n",
    "        df_loop_for_each_sz_10_warm.median()[0],\n",
    "        df_loop_for_each_sz_25_warm.median()[0],\n",
    "        df_loop_for_each_sz_50_warm.median()[0],\n",
    "        df_loop_for_each_sz_100_warm.median()[0]\n",
    "    ],\n",
    "    'iter_cold': [\n",
    "        df_loop_for_each_sz_1_cold.median()[0], \n",
    "        df_loop_for_each_sz_2_cold.median()[0],\n",
    "        df_loop_for_each_sz_5_cold.median()[0],\n",
    "        df_loop_for_each_sz_10_cold.median()[0],\n",
    "        df_loop_for_each_sz_25_cold.median()[0],\n",
    "        df_loop_for_each_sz_50_cold.median()[0],\n",
    "        df_loop_for_each_sz_100_cold.median()[0]\n",
    "    ]\n",
    "})\n",
    "\n",
    "\n",
    "idx = pd.Series(['1', '2', '5', '10', '25', '50', '100'])\n",
    "df_medians = df_medians.set_index(idx)\n",
    "df_medians.head(10)"
   ]
  },
  {
   "cell_type": "code",
   "execution_count": 16,
   "metadata": {
    "scrolled": true
   },
   "outputs": [
    {
     "data": {
      "text/plain": [
       "Text(0.5,1,'Median execution time to execute different amount of ecalls inside of a loop.')"
      ]
     },
     "execution_count": 16,
     "metadata": {},
     "output_type": "execute_result"
    },
    {
     "data": {
      "image/png": "[encoded data removed]",
      "text/plain": [
       "<Figure size 432x288 with 1 Axes>"
      ]
     },
     "metadata": {
      "needs_background": "light"
     },
     "output_type": "display_data"
    }
   ],
   "source": [
    "df_medians[['iter_hot', 'iter_cold', 'loop_hot', 'loop_cold']].plot.bar()\n",
    "plt.xlabel(\"Number of iterations.\")\n",
    "plt.ylabel(\"Clock cycles\")\n",
    "plt.title(\"Median execution time to execute different amount of ecalls inside of a loop.\")"
   ]
  },
  {
   "cell_type": "markdown",
   "metadata": {},
   "source": [
    "## Is there a point where loops become more efficient than iterators?"
   ]
  },
  {
   "cell_type": "code",
   "execution_count": 17,
   "metadata": {},
   "outputs": [],
   "source": [
    "df_loop_body_sz_1_warm = read_input(\"./data/loop_body_size/hotcall_loop_1/hotcall_branch_true_warm\")\n",
    "df_loop_body_sz_3_warm = read_input(\"./data/loop_body_size/hotcall_loop_3/hotcall_branch_true_warm\")\n",
    "df_loop_body_sz_5_warm = read_input(\"./data/loop_body_size/hotcall_loop_5/hotcall_branch_true_warm\")\n",
    "df_loop_body_sz_10_warm = read_input(\"./data/loop_body_size/hotcall_loop_10/hotcall_branch_true_warm\")\n",
    "\n",
    "df_loop_body_sz_1_cold = read_input(\"./data/loop_body_size/hotcall_loop_1/hotcall_branch_true_cold_2\")\n",
    "df_loop_body_sz_3_cold = read_input(\"./data/loop_body_size/hotcall_loop_3/hotcall_branch_true_cold_2\")\n",
    "df_loop_body_sz_5_cold = read_input(\"./data/loop_body_size/hotcall_loop_5/hotcall_branch_true_cold_2\")\n",
    "df_loop_body_sz_10_cold = read_input(\"./data/loop_body_size/hotcall_loop_10/hotcall_branch_true_cold_2\")"
   ]
  },
  {
   "cell_type": "code",
   "execution_count": 18,
   "metadata": {},
   "outputs": [],
   "source": [
    "df_iter_body_sz_1_warm = read_input(\"./data/loop_body_size/hotcall_iterator_1/hotcall_branch_true_warm\")\n",
    "df_iter_body_sz_3_warm = read_input(\"./data/loop_body_size/hotcall_iterator_3/hotcall_branch_true_warm\")\n",
    "df_iter_body_sz_5_warm = read_input(\"./data/loop_body_size/hotcall_iterator_5/hotcall_branch_true_warm\")\n",
    "df_iter_body_sz_10_warm = read_input(\"./data/loop_body_size/hotcall_iterator_10/hotcall_branch_true_warm\")\n",
    "\n",
    "df_iter_body_sz_1_cold = read_input(\"./data/loop_body_size/hotcall_iterator_1/hotcall_branch_true_cold_2\")\n",
    "df_iter_body_sz_3_cold = read_input(\"./data/loop_body_size/hotcall_iterator_3/hotcall_branch_true_cold_2\")\n",
    "df_iter_body_sz_5_cold = read_input(\"./data/loop_body_size/hotcall_iterator_5/hotcall_branch_true_cold_2\")\n",
    "df_iter_body_sz_10_cold = read_input(\"./data/loop_body_size/hotcall_iterator_10/hotcall_branch_true_cold_2\")"
   ]
  },
  {
   "cell_type": "code",
   "execution_count": 19,
   "metadata": {},
   "outputs": [],
   "source": [
    "df_medians = pd.DataFrame({\n",
    "    'iter_hot': [\n",
    "        df_iter_body_sz_1_warm.median()[0], \n",
    "        df_iter_body_sz_3_warm.median()[0],\n",
    "        df_iter_body_sz_5_warm.median()[0],\n",
    "        df_iter_body_sz_10_warm.median()[0]\n",
    "    ],\n",
    "    'iter_cold': [\n",
    "        df_iter_body_sz_1_cold.median()[0], \n",
    "        df_iter_body_sz_3_cold.median()[0],\n",
    "        df_iter_body_sz_5_cold.median()[0],\n",
    "        df_iter_body_sz_10_cold.median()[0]\n",
    "    ],\n",
    "    'loop_hot': [\n",
    "        df_loop_body_sz_1_warm.median()[0], \n",
    "        df_loop_body_sz_3_warm.median()[0],\n",
    "        df_loop_body_sz_5_warm.median()[0],\n",
    "        df_loop_body_sz_10_warm.median()[0]\n",
    "    ],\n",
    "    'loop_cold': [\n",
    "        df_loop_body_sz_1_cold.median()[0], \n",
    "        df_loop_body_sz_3_cold.median()[0],\n",
    "        df_loop_body_sz_5_cold.median()[0],\n",
    "        df_loop_body_sz_10_cold.median()[0]\n",
    "    ]\n",
    "})\n",
    "\n",
    "\n",
    "idx = pd.Series(['1', '3', '5', '10'])\n",
    "df_medians = df_medians.set_index(idx)"
   ]
  },
  {
   "cell_type": "code",
   "execution_count": 20,
   "metadata": {
    "scrolled": true
   },
   "outputs": [
    {
     "data": {
      "text/plain": [
       "Text(0.5,1,'Median execution time, 20 iterations.')"
      ]
     },
     "execution_count": 20,
     "metadata": {},
     "output_type": "execute_result"
    },
    {
     "data": {
      "image/png": "[encoded data removed]",
      "text/plain": [
       "<Figure size 432x288 with 1 Axes>"
      ]
     },
     "metadata": {
      "needs_background": "light"
     },
     "output_type": "display_data"
    }
   ],
   "source": [
    "df_medians[['iter_hot', 'iter_cold', 'loop_hot', 'loop_cold']].plot.bar()\n",
    "plt.xlabel(\"Number of hotcalls.\")\n",
    "plt.ylabel(\"Clock cycles\")\n",
    "plt.title(\"Median execution time, 20 iterations.\")"
   ]
  },
  {
   "cell_type": "markdown",
   "metadata": {},
   "source": [
    "It appears that iterators will always be more efficient than loops. Important insight, if you can use iterators instead of loops then do it!"
   ]
  },
  {
   "cell_type": "markdown",
   "metadata": {},
   "source": [
    "## Evaluation of enclave branching"
   ]
  },
  {
   "cell_type": "code",
   "execution_count": 21,
   "metadata": {},
   "outputs": [],
   "source": [
    "df_branch_true_warm = read_input(\"./data/branch/hotcall_branch_true/hotcall_branch_true_warm\")\n",
    "df_branch_true_cold = read_input(\"./data/branch/hotcall_branch_true/hotcall_branch_true_cold_2\")\n",
    "\n",
    "df_branch_true_naive_warm = read_input(\"./data/branch/hotcall_branch_true_naive/hotcall_branch_true_warm\")\n",
    "df_branch_true_naive_cold = read_input(\"./data/branch/hotcall_branch_true_naive/hotcall_branch_true_cold_2\")\n",
    "\n",
    "df_branch_false_warm = read_input(\"./data/branch/hotcall_branch_false/hotcall_branch_true_warm\")\n",
    "df_branch_false_cold = read_input(\"./data/branch/hotcall_branch_false/hotcall_branch_true_cold_2\")\n",
    "\n",
    "df_branch_false_naive_warm = read_input(\"./data/branch/hotcall_branch_false_naive/hotcall_branch_true_warm\")\n",
    "df_branch_false_naive_cold = read_input(\"./data/branch/hotcall_branch_false_naive/hotcall_branch_true_cold_2\")"
   ]
  },
  {
   "cell_type": "code",
   "execution_count": 22,
   "metadata": {},
   "outputs": [],
   "source": [
    "df_medians = pd.DataFrame({\n",
    "    'enclave branch': [\n",
    "        df_branch_true_warm.median()[0], \n",
    "        df_branch_true_cold.median()[0]\n",
    "    ],\n",
    "    'app branch': [\n",
    "        df_branch_true_naive_warm.median()[0], \n",
    "        df_branch_true_naive_cold.median()[0]\n",
    "    ]\n",
    "})\n",
    "\n",
    "idx = pd.Series(['hot', 'cold'])\n",
    "df_medians = df_medians.set_index(idx)"
   ]
  },
  {
   "cell_type": "code",
   "execution_count": 24,
   "metadata": {},
   "outputs": [
    {
     "data": {
      "text/plain": [
       "Text(0.5,1,'Median execution times to execute graph containing branch with true condition.')"
      ]
     },
     "execution_count": 24,
     "metadata": {},
     "output_type": "execute_result"
    },
    {
     "data": {
      "image/png": "[encoded data removed]",
      "text/plain": [
       "<Figure size 432x288 with 1 Axes>"
      ]
     },
     "metadata": {
      "needs_background": "light"
     },
     "output_type": "display_data"
    }
   ],
   "source": [
    "df_medians[['enclave branch', 'app branch']].plot.bar()\n",
    "plt.xlabel(\"cache state\")\n",
    "plt.ylabel(\"Clock cycles\")\n",
    "plt.title(\"Median execution times to execute graph containing branch with true condition.\")"
   ]
  },
  {
   "cell_type": "code",
   "execution_count": 25,
   "metadata": {},
   "outputs": [],
   "source": [
    "df_medians = pd.DataFrame({\n",
    "    'enclave branch': [\n",
    "        df_branch_false_warm.median()[0], \n",
    "        df_branch_false_cold.median()[0]\n",
    "    ],\n",
    "    'app branch': [\n",
    "        df_branch_false_naive_warm.median()[0], \n",
    "        df_branch_false_naive_cold.median()[0]\n",
    "    ]\n",
    "})\n",
    "\n",
    "idx = pd.Series(['hot', 'cold'])\n",
    "df_medians = df_medians.set_index(idx)"
   ]
  },
  {
   "cell_type": "code",
   "execution_count": 26,
   "metadata": {},
   "outputs": [
    {
     "data": {
      "text/plain": [
       "Text(0.5,1,'Median execution times to execute graph containing branch with false condition.')"
      ]
     },
     "execution_count": 26,
     "metadata": {},
     "output_type": "execute_result"
    },
    {
     "data": {
      "image/png": "[encoded data removed]",
      "text/plain": [
       "<Figure size 432x288 with 1 Axes>"
      ]
     },
     "metadata": {
      "needs_background": "light"
     },
     "output_type": "display_data"
    }
   ],
   "source": [
    "df_medians[['enclave branch', 'app branch']].plot.bar()\n",
    "plt.xlabel(\"cache state\")\n",
    "plt.ylabel(\"Clock cycles\")\n",
    "plt.title(\"Median execution times to execute graph containing branch with false condition.\")"
   ]
  },
  {
   "cell_type": "markdown",
   "metadata": {},
   "source": [
    "We observe that using enclave branching give a small speed when the branch is taken while enclave branching give worse performance it the branch is not taken. We conclude that enclave branching is a good idea in cases where condition is very likely to be true. In other cases, the overhead of evaluation the condition and building the execution graph results in too much overhead. "
   ]
  },
  {
   "cell_type": "code",
   "execution_count": 27,
   "metadata": {},
   "outputs": [],
   "source": [
    "df_branch_true_warm_loop = read_input(\"./data/branch_loop/hotcall_branch_true_loop/hotcall_branch_true_loop_warm\")\n",
    "df_branch_true_cold_loop = read_input(\"./data/branch_loop/hotcall_branch_true_loop/hotcall_branch_true_loop_cold_2\")\n",
    "\n",
    "df_branch_true_naive_warm_loop = read_input(\"./data/branch_loop/hotcall_branch_true_naive_loop/hotcall_branch_true_naive_loop_warm\")\n",
    "df_branch_true_naive_cold_loop = read_input(\"./data/branch_loop/hotcall_branch_true_naive_loop/hotcall_branch_true_naive_loop_cold_2\")\n",
    "\n",
    "df_branch_false_warm_loop = read_input(\"./data/branch_loop/hotcall_branch_false_loop/hotcall_branch_false_loop_warm\")\n",
    "df_branch_false_cold_loop = read_input(\"./data/branch_loop/hotcall_branch_false_loop/hotcall_branch_false_loop_cold_2\")\n",
    "\n",
    "df_branch_false_naive_warm_loop = read_input(\"./data/branch_loop/hotcall_branch_false_naive_loop/hotcall_branch_false_naive_loop_warm\")\n",
    "df_branch_false_naive_cold_loop = read_input(\"./data/branch_loop/hotcall_branch_false_naive_loop/hotcall_branch_false_naive_loop_cold_2\")"
   ]
  },
  {
   "cell_type": "code",
   "execution_count": 28,
   "metadata": {},
   "outputs": [],
   "source": [
    "df_medians = pd.DataFrame({\n",
    "    'enclave branch': [\n",
    "        df_branch_false_warm_loop.median()[0], \n",
    "        df_branch_false_cold_loop.median()[0]\n",
    "    ],\n",
    "    'app branch': [\n",
    "        df_branch_false_naive_warm_loop.median()[0], \n",
    "        df_branch_false_naive_cold_loop.median()[0]\n",
    "    ]\n",
    "})\n",
    "\n",
    "idx = pd.Series(['hot', 'cold'])\n",
    "df_medians = df_medians.set_index(idx)"
   ]
  },
  {
   "cell_type": "code",
   "execution_count": 29,
   "metadata": {},
   "outputs": [
    {
     "data": {
      "text/plain": [
       "Text(0.5,1,'Median execution times to execute graph containing branch with false condition. 2 iterations')"
      ]
     },
     "execution_count": 29,
     "metadata": {},
     "output_type": "execute_result"
    },
    {
     "data": {
      "image/png": "[encoded data removed]",
      "text/plain": [
       "<Figure size 432x288 with 1 Axes>"
      ]
     },
     "metadata": {
      "needs_background": "light"
     },
     "output_type": "display_data"
    }
   ],
   "source": [
    "df_medians[['enclave branch', 'app branch']].plot.bar()\n",
    "plt.xlabel(\"cache state\")\n",
    "plt.ylabel(\"Clock cycles\")\n",
    "plt.title(\"Median execution times to execute graph containing branch with false condition. 2 iterations\")"
   ]
  },
  {
   "cell_type": "markdown",
   "metadata": {},
   "source": [
    "We observe that when wrapping an branch inside of a loop which loops more than once, encalve branch execution becomes faster for false branch benchmark.\n",
    "\n",
    "Thus we can conclude that if the branch takes place inside a loop which is likely to loop more than once, then it makes sense to use enclave branching as opposed to applicaton branching."
   ]
  },
  {
   "cell_type": "code",
   "execution_count": null,
   "metadata": {},
   "outputs": [],
   "source": []
  }
 ],
 "metadata": {
  "kernelspec": {
   "display_name": "Python 2",
   "language": "python",
   "name": "python2"
  },
  "language_info": {
   "codemirror_mode": {
    "name": "ipython",
    "version": 2
   },
   "file_extension": ".py",
   "mimetype": "text/x-python",
   "name": "python",
   "nbconvert_exporter": "python",
   "pygments_lexer": "ipython2",
   "version": "2.7.12"
  }
 },
 "nbformat": 4,
 "nbformat_minor": 2
}
